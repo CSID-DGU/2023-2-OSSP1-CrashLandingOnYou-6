{
  "nbformat": 4,
  "nbformat_minor": 0,
  "metadata": {
    "colab": {
      "provenance": []
    },
    "kernelspec": {
      "name": "python3",
      "display_name": "Python 3"
    },
    "language_info": {
      "name": "python"
    }
  },
  "cells": [
    {
      "cell_type": "code",
      "execution_count": null,
      "metadata": {
        "colab": {
          "base_uri": "https://localhost:8080/"
        },
        "id": "sjhe6y9gArxP",
        "outputId": "028f6d6b-ee51-4207-8ee5-b42ca008dbd2"
      },
      "outputs": [
        {
          "output_type": "stream",
          "name": "stdout",
          "text": [
            "Drive already mounted at /content/drive; to attempt to forcibly remount, call drive.mount(\"/content/drive\", force_remount=True).\n"
          ]
        }
      ],
      "source": [
        "from google.colab import drive\n",
        "drive.mount('/content/drive')"
      ]
    },
    {
      "cell_type": "code",
      "source": [
        "import pandas as pd\n",
        "\n",
        "file_path = '/content/drive/MyDrive/Colab Notebooks/정규화_가장유사한셀+행번호_제발.xlsx'\n",
        "\n",
        "# 엑셀 파일 로드\n",
        "df = pd.read_excel(file_path)\n",
        "\n",
        "# 열 이름과 열 번호 출력\n",
        "for idx, col_name in enumerate(df.columns):\n",
        "    print(f\"열 번호: {idx}, 열 이름: {col_name}\")"
      ],
      "metadata": {
        "colab": {
          "base_uri": "https://localhost:8080/"
        },
        "id": "_8aHZZMQBM0J",
        "outputId": "a840c5b6-feff-4287-e1f1-c3c0c662db3a"
      },
      "execution_count": null,
      "outputs": [
        {
          "output_type": "stream",
          "name": "stdout",
          "text": [
            "열 번호: 0, 열 이름: Text\n",
            "열 번호: 1, 열 이름: Excel Cell\n",
            "열 번호: 2, 열 이름: Row Number\n",
            "열 번호: 3, 열 이름: Matching Content\n"
          ]
        }
      ]
    },
    {
      "cell_type": "code",
      "source": [
        "import pandas as pd\n",
        "\n",
        "# 함수 정의: 두 문자열 간의 관계를 분석합니다.\n",
        "def analyze_relationship(row):\n",
        "    # 각 문자열에서 모든 공백을 제거합니다.\n",
        "    a_str = str(row['Text']).replace(\" \", \"\")\n",
        "    d_str = str(row['Matching Content']).replace(\" \", \"\")\n",
        "\n",
        "    if d_str in a_str:\n",
        "        row['E'] = 1\n",
        "        row['F'] = 0\n",
        "        row['G'] = 0\n",
        "    elif a_str in d_str:\n",
        "        row['E'] = 0\n",
        "        row['F'] = 1\n",
        "        row['G'] = 0\n",
        "    else:\n",
        "        # 두 문자열 간에 공통된 문자가 있는지 확인합니다.\n",
        "        intersection = set(a_str) & set(d_str)\n",
        "        if intersection:\n",
        "            row['E'] = 0\n",
        "            row['F'] = 0\n",
        "            row['G'] = 1\n",
        "        else:\n",
        "            row['E'] = 0\n",
        "            row['F'] = 0\n",
        "            row['G'] = 0\n",
        "    return row\n",
        "\n",
        "# 엑셀 파일 로드\n",
        "file_path = '/content/drive/MyDrive/Colab Notebooks/정규화_가장유사한셀+행번호_제발.xlsx'\n",
        "df = pd.read_excel(file_path)\n",
        "\n",
        "# 함수를 데이터프레임의 각 행에 적용합니다.\n",
        "df = df.apply(analyze_relationship, axis=1)\n",
        "\n",
        "# 결과 저장\n",
        "output_path = '/content/drive/MyDrive/Colab Notebooks/processed_excel_file_3.xlsx'\n",
        "df.to_excel(output_path, index=False)\n"
      ],
      "metadata": {
        "id": "fCe_vob3BWZ9"
      },
      "execution_count": null,
      "outputs": []
    },
    {
      "cell_type": "code",
      "source": [
        "# F열, G열, H열에서 1인 값의 개수와 비율을 계산하는 코드\n",
        "# 데이터프레임 로드\n",
        "df = pd.read_excel(output_path)\n",
        "\n",
        "# E, F, G 열에서 1인 값의 개수와 비율을 계산합니다.\n",
        "count_E = df['E'].sum()\n",
        "ratio_E = count_E / len(df)\n",
        "\n",
        "count_F = df['F'].sum()\n",
        "ratio_F = count_F / len(df)\n",
        "\n",
        "count_G = df['G'].sum()\n",
        "ratio_G = count_G / len(df)\n",
        "\n",
        "# E, F, G 열이 모두 0인 행의 비율을 계산합니다.\n",
        "count_all_zero = len(df) - (df[['E', 'F', 'G']] > 0).any(axis=1).sum()\n",
        "ratio_all_zero = count_all_zero / len(df)\n",
        "\n",
        "# 결과 출력\n",
        "print(f\"E열에서 1인 값의 개수: {count_E}, 비율: {ratio_E:.2%}\")\n",
        "print(f\"F열에서 1인 값의 개수: {count_F}, 비율: {ratio_F:.2%}\")\n",
        "print(f\"G열에서 1인 값의 개수: {count_G}, 비율: {ratio_G:.2%}\")\n",
        "print(f\"E, F, G 열이 모두 0인 행의 비율: {ratio_all_zero:.2%}\")\n"
      ],
      "metadata": {
        "colab": {
          "base_uri": "https://localhost:8080/"
        },
        "id": "BDyI63XLFiwI",
        "outputId": "4a0ecddc-b2b2-43b5-c19a-67737e8c6ddd"
      },
      "execution_count": null,
      "outputs": [
        {
          "output_type": "stream",
          "name": "stdout",
          "text": [
            "E열에서 1인 값의 개수: 1429, 비율: 52.59%\n",
            "F열에서 1인 값의 개수: 37, 비율: 1.36%\n",
            "G열에서 1인 값의 개수: 1251, 비율: 46.04%\n",
            "E, F, G 열이 모두 0인 행의 비율: 0.00%\n"
          ]
        }
      ]
    },
    {
      "cell_type": "code",
      "source": [],
      "metadata": {
        "id": "4C2OomDNkNa5"
      },
      "execution_count": null,
      "outputs": []
    }
  ]
}