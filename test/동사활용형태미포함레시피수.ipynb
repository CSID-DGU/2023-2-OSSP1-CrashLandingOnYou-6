{
  "nbformat": 4,
  "nbformat_minor": 0,
  "metadata": {
    "colab": {
      "provenance": []
    },
    "kernelspec": {
      "name": "python3",
      "display_name": "Python 3"
    },
    "language_info": {
      "name": "python"
    }
  },
  "cells": [
    {
      "cell_type": "code",
      "execution_count": null,
      "metadata": {
        "colab": {
          "base_uri": "https://localhost:8080/"
        },
        "id": "kIFQPTWCIgjb",
        "outputId": "f657c962-67a9-46f6-8607-6c25a03b6eb7"
      },
      "outputs": [
        {
          "output_type": "stream",
          "name": "stdout",
          "text": [
            "Requirement already satisfied: konlpy in /usr/local/lib/python3.10/dist-packages (0.6.0)\n",
            "Requirement already satisfied: JPype1>=0.7.0 in /usr/local/lib/python3.10/dist-packages (from konlpy) (1.4.1)\n",
            "Requirement already satisfied: lxml>=4.1.0 in /usr/local/lib/python3.10/dist-packages (from konlpy) (4.9.3)\n",
            "Requirement already satisfied: numpy>=1.6 in /usr/local/lib/python3.10/dist-packages (from konlpy) (1.23.5)\n",
            "Requirement already satisfied: packaging in /usr/local/lib/python3.10/dist-packages (from JPype1>=0.7.0->konlpy) (23.2)\n",
            "mecab-ko is already installed\n",
            "mecab-ko-dic is already installed\n",
            "Install mecab-python\n",
            "/tmp /content\n",
            "/content\n",
            "Processing /tmp/mecab-python-0.996\n",
            "  \u001b[1;31merror\u001b[0m: \u001b[1msubprocess-exited-with-error\u001b[0m\n",
            "  \n",
            "  \u001b[31m×\u001b[0m \u001b[32mpython setup.py egg_info\u001b[0m did not run successfully.\n",
            "  \u001b[31m│\u001b[0m exit code: \u001b[1;36m1\u001b[0m\n",
            "  \u001b[31m╰─>\u001b[0m See above for output.\n",
            "  \n",
            "  \u001b[1;35mnote\u001b[0m: This error originates from a subprocess, and is likely not a problem with pip.\n",
            "  Preparing metadata (setup.py) ... \u001b[?25l\u001b[?25herror\n",
            "\u001b[1;31merror\u001b[0m: \u001b[1mmetadata-generation-failed\u001b[0m\n",
            "\n",
            "\u001b[31m×\u001b[0m Encountered error while generating package metadata.\n",
            "\u001b[31m╰─>\u001b[0m See above for output.\n",
            "\n",
            "\u001b[1;35mnote\u001b[0m: This is an issue with the package mentioned above, not pip.\n",
            "\u001b[1;36mhint\u001b[0m: See above for details.\n"
          ]
        }
      ],
      "source": [
        "# 필요한 라이브러리 설치 및 임포트\n",
        "!pip install konlpy\n",
        "!bash <(curl -s https://raw.githubusercontent.com/konlpy/konlpy/master/scripts/mecab.sh)\n",
        "\n"
      ]
    },
    {
      "cell_type": "code",
      "source": [
        "import pandas as pd\n",
        "from konlpy.tag import Mecab\n",
        "\n",
        "# Google Drive 마운트\n",
        "from google.colab import drive\n",
        "drive.mount('/content/drive')\n",
        "\n",
        "# 파일 경로\n",
        "file_path = '/content/drive/My Drive/recipe/무침1000_2.csv'\n",
        "\n",
        "# 파일 읽기\n",
        "try:\n",
        "    data = pd.read_csv(file_path, encoding='CP949')\n",
        "except UnicodeDecodeError:\n",
        "    try:\n",
        "        data = pd.read_csv(file_path, encoding='EUC-KR')\n",
        "    except UnicodeDecodeError:\n",
        "        print(\"파일을 읽을 수 없습니다. 인코딩을 확인하세요.\")\n",
        "\n",
        "# '굽다' 동사의 활용 형태 리스트\n",
        "roasting_verbs = [\n",
        "     '무쳐', '무쳐도', '무쳐서', '무쳐야', '무쳤', '무치', '무친', '무친다', '무칠', '무침', '버무려', '버무려서', '버무려졌', '버무렸', '버무리', '버무린', '버무린다', '버무립니다'\n",
        "]\n",
        "\n",
        "# 레시피에서 '굽다' 동사의 활용 형태가 포함되지 않은 레시피 카운트\n",
        "count_no_roasting = 0\n",
        "\n",
        "# 각 레시피에서 '굽다' 동사의 활용 형태가 있는지 확인\n",
        "for recipe in data['recipe']:  # 'G'는 레시피 텍스트가 있는 열 이름\n",
        "    if isinstance(recipe, float):  # NaN 또는 숫자 값인 경우\n",
        "        continue  # 이러한 경우는 무시하고 다음 레시피로 넘어감\n",
        "\n",
        "    if not any(verb in recipe for verb in roasting_verbs):\n",
        "        count_no_roasting += 1\n",
        "\n",
        "# 결과 출력\n",
        "print(f\"'굽다' 동사의 활용 형태가 포함되지 않은 레시피의 수: {count_no_roasting}\")"
      ],
      "metadata": {
        "colab": {
          "base_uri": "https://localhost:8080/"
        },
        "id": "6_sWDCAzK6rz",
        "outputId": "80accab8-4d9d-453d-bc86-255bcbb01c6b"
      },
      "execution_count": null,
      "outputs": [
        {
          "output_type": "stream",
          "name": "stdout",
          "text": [
            "Drive already mounted at /content/drive; to attempt to forcibly remount, call drive.mount(\"/content/drive\", force_remount=True).\n",
            "'굽다' 동사의 활용 형태가 포함되지 않은 레시피의 수: 136\n"
          ]
        }
      ]
    }
  ]
}